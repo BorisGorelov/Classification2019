{
 "cells": [
  {
   "cell_type": "markdown",
   "metadata": {},
   "source": [
    "## Часть 1\n",
    "Напишите скрипт, который скачивает все данные прошедших губернаторских выборов для всех избирательных участков. \n",
    "\n",
    "Входная точка [по ссылке](http://www.st-petersburg.vybory.izbirkom.ru/region/region/st-petersburg?action=show&root=1&tvd=27820001217417&vrn=27820001217413&region=78&global=&sub_region=78&prver=0&pronetvd=null&vibid=27820001217417&type=222). Затем нужно перейти на сайты территориальных избирательных комиссий. Результаты нужно сохранить в  `cvs`-файл, `sqlite` базе данных или `parquet`-файле. В итоге должна получиться таблица с полями:\n",
    "- название ТИК (территориальная избирательная комиссия, некоторое объединение избирательных участков на определенной территории)\n",
    "- номер УИК (избирательный участок)\n",
    "- 14 стандартных полей из итогового протокола\n",
    "\n",
    "Скрипт должен быть в отдельном `*.py` файле или в отдельном `jupyter`-ноутбуке. \n",
    "\n",
    "\n"
   ]
  },
  {
   "cell_type": "code",
   "execution_count": 1,
   "metadata": {},
   "outputs": [],
   "source": [
    "import lxml.html\n",
    "import lxml.etree\n",
    "import requests\n",
    "import csv"
   ]
  },
  {
   "cell_type": "code",
   "execution_count": 2,
   "metadata": {},
   "outputs": [],
   "source": [
    "main_domain = \"http://www.st-petersburg.vybory.izbirkom.ru/region/region/st-petersburg?action=show&root=1&tvd=2782\\\n",
    "0001217417&vrn=27820001217413&region=78&global=&sub_region=78&prver=0&pronetvd=null&vibid=27820001217417&type=222\""
   ]
  },
  {
   "cell_type": "code",
   "execution_count": 3,
   "metadata": {},
   "outputs": [],
   "source": [
    "filehtml = requests.get(main_domain)\n",
    "tree = lxml.html.fromstring(filehtml.text)"
   ]
  },
  {
   "cell_type": "code",
   "execution_count": 4,
   "metadata": {},
   "outputs": [],
   "source": [
    "TIK_links = tree.xpath('//a[@style=\"text-decoration: none\"]/@href')\n",
    "del TIK_links[len(TIK_links)-1]"
   ]
  },
  {
   "cell_type": "code",
   "execution_count": 5,
   "metadata": {},
   "outputs": [],
   "source": [
    "def double_ins(x,y,z):\n",
    "    x.insert(0,y)\n",
    "    x.insert(0,str(z))\n",
    "    return x"
   ]
  },
  {
   "cell_type": "code",
   "execution_count": 6,
   "metadata": {},
   "outputs": [],
   "source": [
    "data = []\n",
    "j = 0\n",
    "for link in TIK_links:\n",
    "    j +=1\n",
    "    TIK_files = requests.get(link)\n",
    "    tree1 = lxml.html.fromstring(TIK_files.text)\n",
    "    YIK_numbers = list(map(lambda x: x.replace('УИК №',''),tree1.xpath('//tr[1]/td/nobr/text()')))\n",
    "    for i in range(len(YIK_numbers)):\n",
    "        column = tree1.xpath(f'//table[@style=\"width:100%;overflow:scroll\"]/tr/td[{i+1}]/nobr/b/text()')\n",
    "        data.append(double_ins(column,YIK_numbers[i],j))\n"
   ]
  },
  {
   "cell_type": "code",
   "execution_count": 7,
   "metadata": {},
   "outputs": [],
   "source": [
    "import csv\n",
    "file_name = \"data.csv\"\n",
    "with open(file_name, \"w\") as file:\n",
    "    writer = csv.writer(file,delimiter=',')\n",
    "    for line in data:\n",
    "        writer.writerow(line)"
   ]
  }
 ],
 "metadata": {
  "kernelspec": {
   "display_name": "Python 3",
   "language": "python",
   "name": "python3"
  },
  "language_info": {
   "codemirror_mode": {
    "name": "ipython",
    "version": 3
   },
   "file_extension": ".py",
   "mimetype": "text/x-python",
   "name": "python",
   "nbconvert_exporter": "python",
   "pygments_lexer": "ipython3",
   "version": "3.6.9"
  }
 },
 "nbformat": 4,
 "nbformat_minor": 2
}
